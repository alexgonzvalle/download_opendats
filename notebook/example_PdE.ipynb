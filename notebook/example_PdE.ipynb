{
 "cells": [
  {
   "cell_type": "markdown",
   "id": "0071e724",
   "metadata": {},
   "source": [
    "## Descargar datos del OpenDap de PdE"
   ]
  },
  {
   "cell_type": "code",
   "execution_count": 1,
   "id": "c94b4d87",
   "metadata": {},
   "outputs": [],
   "source": [
    "from pde import PDE"
   ]
  },
  {
   "cell_type": "markdown",
   "id": "50431428",
   "metadata": {},
   "source": [
    "**Defino el producto que quiero descargar. Disponibles en: https://opendap.puertos.es/thredds/catalog/catalog.html**"
   ]
  },
  {
   "cell_type": "code",
   "execution_count": 4,
   "id": "f954002a",
   "metadata": {},
   "outputs": [],
   "source": [
    "user, passw = 'Beatriz_Rodriguez', 'pz3D@*Vvnn'\n",
    "pde = PDE('atmosphere_regional_harmonie25/ALBO', \n",
    "          ['2019', '2020', '2021', '2022'], \n",
    "          ['01', '02', '03', '04', '05', '06', '07', '08', '09', '10', '11', '12'], \n",
    "          user=user, passw=passw)"
   ]
  },
  {
   "cell_type": "markdown",
   "id": "fd5abc60",
   "metadata": {},
   "source": [
    "**Filtro el catalogo**"
   ]
  },
  {
   "cell_type": "code",
   "execution_count": 5,
   "id": "6fe6845f",
   "metadata": {},
   "outputs": [
    {
     "data": {
      "application/vnd.jupyter.widget-view+json": {
       "model_id": "e1bd292d595d49b595f183a9cbc4663e",
       "version_major": 2,
       "version_minor": 0
      },
      "text/plain": [
       "Getting catalog:   0%|          | 0/48 [00:00<?, ?it/s]"
      ]
     },
     "metadata": {},
     "output_type": "display_data"
    },
    {
     "name": "stdout",
     "output_type": "stream",
     "text": [
      "Url para conexión: http://opendap.puertos.es/thredds/catalog/atmosphere_regional_harmonie25/ALBO/2019/01/catalog.xml. Ficheros disponibles: 155\n",
      "Url para conexión: http://opendap.puertos.es/thredds/catalog/atmosphere_regional_harmonie25/ALBO/2019/01/catalog.xml. Ficheros disponibles: 31. (Text: 00-FC). \n",
      "Url para conexión: http://opendap.puertos.es/thredds/catalog/atmosphere_regional_harmonie25/ALBO/2019/02/catalog.xml. Ficheros disponibles: 140\n",
      "Url para conexión: http://opendap.puertos.es/thredds/catalog/atmosphere_regional_harmonie25/ALBO/2019/02/catalog.xml. Ficheros disponibles: 28. (Text: 00-FC). \n",
      "Url para conexión: http://opendap.puertos.es/thredds/catalog/atmosphere_regional_harmonie25/ALBO/2019/03/catalog.xml. Ficheros disponibles: 155\n",
      "Url para conexión: http://opendap.puertos.es/thredds/catalog/atmosphere_regional_harmonie25/ALBO/2019/03/catalog.xml. Ficheros disponibles: 31. (Text: 00-FC). \n",
      "Url para conexión: http://opendap.puertos.es/thredds/catalog/atmosphere_regional_harmonie25/ALBO/2019/04/catalog.xml. Ficheros disponibles: 150\n",
      "Url para conexión: http://opendap.puertos.es/thredds/catalog/atmosphere_regional_harmonie25/ALBO/2019/04/catalog.xml. Ficheros disponibles: 30. (Text: 00-FC). \n",
      "Url para conexión: http://opendap.puertos.es/thredds/catalog/atmosphere_regional_harmonie25/ALBO/2019/05/catalog.xml. Ficheros disponibles: 155\n",
      "Url para conexión: http://opendap.puertos.es/thredds/catalog/atmosphere_regional_harmonie25/ALBO/2019/05/catalog.xml. Ficheros disponibles: 31. (Text: 00-FC). \n",
      "Url para conexión: http://opendap.puertos.es/thredds/catalog/atmosphere_regional_harmonie25/ALBO/2019/06/catalog.xml. Ficheros disponibles: 150\n",
      "Url para conexión: http://opendap.puertos.es/thredds/catalog/atmosphere_regional_harmonie25/ALBO/2019/06/catalog.xml. Ficheros disponibles: 30. (Text: 00-FC). \n",
      "Url para conexión: http://opendap.puertos.es/thredds/catalog/atmosphere_regional_harmonie25/ALBO/2019/07/catalog.xml. Ficheros disponibles: 155\n",
      "Url para conexión: http://opendap.puertos.es/thredds/catalog/atmosphere_regional_harmonie25/ALBO/2019/07/catalog.xml. Ficheros disponibles: 31. (Text: 00-FC). \n",
      "Url para conexión: http://opendap.puertos.es/thredds/catalog/atmosphere_regional_harmonie25/ALBO/2019/08/catalog.xml. Ficheros disponibles: 155\n",
      "Url para conexión: http://opendap.puertos.es/thredds/catalog/atmosphere_regional_harmonie25/ALBO/2019/08/catalog.xml. Ficheros disponibles: 31. (Text: 00-FC). \n",
      "Url para conexión: http://opendap.puertos.es/thredds/catalog/atmosphere_regional_harmonie25/ALBO/2019/09/catalog.xml. Ficheros disponibles: 148\n",
      "Url para conexión: http://opendap.puertos.es/thredds/catalog/atmosphere_regional_harmonie25/ALBO/2019/09/catalog.xml. Ficheros disponibles: 30. (Text: 00-FC). \n",
      "Url para conexión: http://opendap.puertos.es/thredds/catalog/atmosphere_regional_harmonie25/ALBO/2019/10/catalog.xml. Ficheros disponibles: 155\n",
      "Url para conexión: http://opendap.puertos.es/thredds/catalog/atmosphere_regional_harmonie25/ALBO/2019/10/catalog.xml. Ficheros disponibles: 31. (Text: 00-FC). \n",
      "Url para conexión: http://opendap.puertos.es/thredds/catalog/atmosphere_regional_harmonie25/ALBO/2019/11/catalog.xml. Ficheros disponibles: 150\n",
      "Url para conexión: http://opendap.puertos.es/thredds/catalog/atmosphere_regional_harmonie25/ALBO/2019/11/catalog.xml. Ficheros disponibles: 30. (Text: 00-FC). \n",
      "Url para conexión: http://opendap.puertos.es/thredds/catalog/atmosphere_regional_harmonie25/ALBO/2019/12/catalog.xml. Ficheros disponibles: 151\n",
      "Url para conexión: http://opendap.puertos.es/thredds/catalog/atmosphere_regional_harmonie25/ALBO/2019/12/catalog.xml. Ficheros disponibles: 31. (Text: 00-FC). \n",
      "Url para conexión: http://opendap.puertos.es/thredds/catalog/atmosphere_regional_harmonie25/ALBO/2020/01/catalog.xml. Ficheros disponibles: 153\n",
      "Url para conexión: http://opendap.puertos.es/thredds/catalog/atmosphere_regional_harmonie25/ALBO/2020/01/catalog.xml. Ficheros disponibles: 30. (Text: 00-FC). \n",
      "Url para conexión: http://opendap.puertos.es/thredds/catalog/atmosphere_regional_harmonie25/ALBO/2020/02/catalog.xml. Ficheros disponibles: 144\n",
      "Url para conexión: http://opendap.puertos.es/thredds/catalog/atmosphere_regional_harmonie25/ALBO/2020/02/catalog.xml. Ficheros disponibles: 29. (Text: 00-FC). \n",
      "Url para conexión: http://opendap.puertos.es/thredds/catalog/atmosphere_regional_harmonie25/ALBO/2020/03/catalog.xml. Ficheros disponibles: 155\n",
      "Url para conexión: http://opendap.puertos.es/thredds/catalog/atmosphere_regional_harmonie25/ALBO/2020/03/catalog.xml. Ficheros disponibles: 31. (Text: 00-FC). \n",
      "Url para conexión: http://opendap.puertos.es/thredds/catalog/atmosphere_regional_harmonie25/ALBO/2020/04/catalog.xml. Ficheros disponibles: 150\n",
      "Url para conexión: http://opendap.puertos.es/thredds/catalog/atmosphere_regional_harmonie25/ALBO/2020/04/catalog.xml. Ficheros disponibles: 30. (Text: 00-FC). \n",
      "Url para conexión: http://opendap.puertos.es/thredds/catalog/atmosphere_regional_harmonie25/ALBO/2020/05/catalog.xml. Ficheros disponibles: 155\n",
      "Url para conexión: http://opendap.puertos.es/thredds/catalog/atmosphere_regional_harmonie25/ALBO/2020/05/catalog.xml. Ficheros disponibles: 31. (Text: 00-FC). \n",
      "Url para conexión: http://opendap.puertos.es/thredds/catalog/atmosphere_regional_harmonie25/ALBO/2020/06/catalog.xml. Ficheros disponibles: 149\n",
      "Url para conexión: http://opendap.puertos.es/thredds/catalog/atmosphere_regional_harmonie25/ALBO/2020/06/catalog.xml. Ficheros disponibles: 30. (Text: 00-FC). \n",
      "Url para conexión: http://opendap.puertos.es/thredds/catalog/atmosphere_regional_harmonie25/ALBO/2020/07/catalog.xml. Ficheros disponibles: 155\n",
      "Url para conexión: http://opendap.puertos.es/thredds/catalog/atmosphere_regional_harmonie25/ALBO/2020/07/catalog.xml. Ficheros disponibles: 31. (Text: 00-FC). \n",
      "Url para conexión: http://opendap.puertos.es/thredds/catalog/atmosphere_regional_harmonie25/ALBO/2020/08/catalog.xml. Ficheros disponibles: 154\n",
      "Url para conexión: http://opendap.puertos.es/thredds/catalog/atmosphere_regional_harmonie25/ALBO/2020/08/catalog.xml. Ficheros disponibles: 31. (Text: 00-FC). \n",
      "Url para conexión: http://opendap.puertos.es/thredds/catalog/atmosphere_regional_harmonie25/ALBO/2020/09/catalog.xml. Ficheros disponibles: 148\n",
      "Url para conexión: http://opendap.puertos.es/thredds/catalog/atmosphere_regional_harmonie25/ALBO/2020/09/catalog.xml. Ficheros disponibles: 30. (Text: 00-FC). \n",
      "Url para conexión: http://opendap.puertos.es/thredds/catalog/atmosphere_regional_harmonie25/ALBO/2020/10/catalog.xml. Ficheros disponibles: 155\n",
      "Url para conexión: http://opendap.puertos.es/thredds/catalog/atmosphere_regional_harmonie25/ALBO/2020/10/catalog.xml. Ficheros disponibles: 31. (Text: 00-FC). \n",
      "Url para conexión: http://opendap.puertos.es/thredds/catalog/atmosphere_regional_harmonie25/ALBO/2020/11/catalog.xml. Ficheros disponibles: 150\n",
      "Url para conexión: http://opendap.puertos.es/thredds/catalog/atmosphere_regional_harmonie25/ALBO/2020/11/catalog.xml. Ficheros disponibles: 30. (Text: 00-FC). \n",
      "Url para conexión: http://opendap.puertos.es/thredds/catalog/atmosphere_regional_harmonie25/ALBO/2020/12/catalog.xml. Ficheros disponibles: 153\n",
      "Url para conexión: http://opendap.puertos.es/thredds/catalog/atmosphere_regional_harmonie25/ALBO/2020/12/catalog.xml. Ficheros disponibles: 30. (Text: 00-FC). \n",
      "Url para conexión: http://opendap.puertos.es/thredds/catalog/atmosphere_regional_harmonie25/ALBO/2021/01/catalog.xml. Ficheros disponibles: 154\n",
      "Url para conexión: http://opendap.puertos.es/thredds/catalog/atmosphere_regional_harmonie25/ALBO/2021/01/catalog.xml. Ficheros disponibles: 31. (Text: 00-FC). \n",
      "Url para conexión: http://opendap.puertos.es/thredds/catalog/atmosphere_regional_harmonie25/ALBO/2021/02/catalog.xml. Ficheros disponibles: 139\n",
      "Url para conexión: http://opendap.puertos.es/thredds/catalog/atmosphere_regional_harmonie25/ALBO/2021/02/catalog.xml. Ficheros disponibles: 28. (Text: 00-FC). \n",
      "Url para conexión: http://opendap.puertos.es/thredds/catalog/atmosphere_regional_harmonie25/ALBO/2021/03/catalog.xml. Ficheros disponibles: 155\n",
      "Url para conexión: http://opendap.puertos.es/thredds/catalog/atmosphere_regional_harmonie25/ALBO/2021/03/catalog.xml. Ficheros disponibles: 31. (Text: 00-FC). \n"
     ]
    },
    {
     "name": "stdout",
     "output_type": "stream",
     "text": [
      "Url para conexión: http://opendap.puertos.es/thredds/catalog/atmosphere_regional_harmonie25/ALBO/2021/04/catalog.xml. Ficheros disponibles: 150\n",
      "Url para conexión: http://opendap.puertos.es/thredds/catalog/atmosphere_regional_harmonie25/ALBO/2021/04/catalog.xml. Ficheros disponibles: 30. (Text: 00-FC). \n",
      "Url para conexión: http://opendap.puertos.es/thredds/catalog/atmosphere_regional_harmonie25/ALBO/2021/05/catalog.xml. Ficheros disponibles: 155\n",
      "Url para conexión: http://opendap.puertos.es/thredds/catalog/atmosphere_regional_harmonie25/ALBO/2021/05/catalog.xml. Ficheros disponibles: 31. (Text: 00-FC). \n",
      "Url para conexión: http://opendap.puertos.es/thredds/catalog/atmosphere_regional_harmonie25/ALBO/2021/06/catalog.xml. Ficheros disponibles: 150\n",
      "Url para conexión: http://opendap.puertos.es/thredds/catalog/atmosphere_regional_harmonie25/ALBO/2021/06/catalog.xml. Ficheros disponibles: 30. (Text: 00-FC). \n",
      "Url para conexión: http://opendap.puertos.es/thredds/catalog/atmosphere_regional_harmonie25/ALBO/2021/07/catalog.xml. Ficheros disponibles: 154\n",
      "Url para conexión: http://opendap.puertos.es/thredds/catalog/atmosphere_regional_harmonie25/ALBO/2021/07/catalog.xml. Ficheros disponibles: 30. (Text: 00-FC). \n",
      "Url para conexión: http://opendap.puertos.es/thredds/catalog/atmosphere_regional_harmonie25/ALBO/2021/08/catalog.xml. Ficheros disponibles: 155\n",
      "Url para conexión: http://opendap.puertos.es/thredds/catalog/atmosphere_regional_harmonie25/ALBO/2021/08/catalog.xml. Ficheros disponibles: 31. (Text: 00-FC). \n",
      "Url para conexión: http://opendap.puertos.es/thredds/catalog/atmosphere_regional_harmonie25/ALBO/2021/09/catalog.xml. Ficheros disponibles: 150\n",
      "Url para conexión: http://opendap.puertos.es/thredds/catalog/atmosphere_regional_harmonie25/ALBO/2021/09/catalog.xml. Ficheros disponibles: 30. (Text: 00-FC). \n",
      "Url para conexión: http://opendap.puertos.es/thredds/catalog/atmosphere_regional_harmonie25/ALBO/2021/10/catalog.xml. Ficheros disponibles: 155\n",
      "Url para conexión: http://opendap.puertos.es/thredds/catalog/atmosphere_regional_harmonie25/ALBO/2021/10/catalog.xml. Ficheros disponibles: 31. (Text: 00-FC). \n",
      "Url para conexión: http://opendap.puertos.es/thredds/catalog/atmosphere_regional_harmonie25/ALBO/2021/11/catalog.xml. Ficheros disponibles: 150\n",
      "Url para conexión: http://opendap.puertos.es/thredds/catalog/atmosphere_regional_harmonie25/ALBO/2021/11/catalog.xml. Ficheros disponibles: 30. (Text: 00-FC). \n",
      "Url para conexión: http://opendap.puertos.es/thredds/catalog/atmosphere_regional_harmonie25/ALBO/2021/12/catalog.xml. Ficheros disponibles: 155\n",
      "Url para conexión: http://opendap.puertos.es/thredds/catalog/atmosphere_regional_harmonie25/ALBO/2021/12/catalog.xml. Ficheros disponibles: 31. (Text: 00-FC). \n",
      "Url para conexión: http://opendap.puertos.es/thredds/catalog/atmosphere_regional_harmonie25/ALBO/2022/01/catalog.xml. Ficheros disponibles: 155\n",
      "Url para conexión: http://opendap.puertos.es/thredds/catalog/atmosphere_regional_harmonie25/ALBO/2022/01/catalog.xml. Ficheros disponibles: 31. (Text: 00-FC). \n",
      "Url para conexión: http://opendap.puertos.es/thredds/catalog/atmosphere_regional_harmonie25/ALBO/2022/02/catalog.xml. Ficheros disponibles: 140\n",
      "Url para conexión: http://opendap.puertos.es/thredds/catalog/atmosphere_regional_harmonie25/ALBO/2022/02/catalog.xml. Ficheros disponibles: 28. (Text: 00-FC). \n",
      "Url para conexión: http://opendap.puertos.es/thredds/catalog/atmosphere_regional_harmonie25/ALBO/2022/03/catalog.xml. Ficheros disponibles: 155\n",
      "Url para conexión: http://opendap.puertos.es/thredds/catalog/atmosphere_regional_harmonie25/ALBO/2022/03/catalog.xml. Ficheros disponibles: 31. (Text: 00-FC). \n",
      "Url para conexión: http://opendap.puertos.es/thredds/catalog/atmosphere_regional_harmonie25/ALBO/2022/04/catalog.xml. Ficheros disponibles: 150\n",
      "Url para conexión: http://opendap.puertos.es/thredds/catalog/atmosphere_regional_harmonie25/ALBO/2022/04/catalog.xml. Ficheros disponibles: 30. (Text: 00-FC). \n",
      "Url para conexión: http://opendap.puertos.es/thredds/catalog/atmosphere_regional_harmonie25/ALBO/2022/05/catalog.xml. Ficheros disponibles: 155\n",
      "Url para conexión: http://opendap.puertos.es/thredds/catalog/atmosphere_regional_harmonie25/ALBO/2022/05/catalog.xml. Ficheros disponibles: 31. (Text: 00-FC). \n",
      "Url para conexión: http://opendap.puertos.es/thredds/catalog/atmosphere_regional_harmonie25/ALBO/2022/06/catalog.xml. Ficheros disponibles: 150\n",
      "Url para conexión: http://opendap.puertos.es/thredds/catalog/atmosphere_regional_harmonie25/ALBO/2022/06/catalog.xml. Ficheros disponibles: 30. (Text: 00-FC). \n",
      "Url para conexión: http://opendap.puertos.es/thredds/catalog/atmosphere_regional_harmonie25/ALBO/2022/07/catalog.xml. Ficheros disponibles: 155\n",
      "Url para conexión: http://opendap.puertos.es/thredds/catalog/atmosphere_regional_harmonie25/ALBO/2022/07/catalog.xml. Ficheros disponibles: 31. (Text: 00-FC). \n",
      "Url para conexión: http://opendap.puertos.es/thredds/catalog/atmosphere_regional_harmonie25/ALBO/2022/08/catalog.xml. Ficheros disponibles: 155\n",
      "Url para conexión: http://opendap.puertos.es/thredds/catalog/atmosphere_regional_harmonie25/ALBO/2022/08/catalog.xml. Ficheros disponibles: 31. (Text: 00-FC). \n",
      "Url para conexión: http://opendap.puertos.es/thredds/catalog/atmosphere_regional_harmonie25/ALBO/2022/09/catalog.xml. Ficheros disponibles: 150\n",
      "Url para conexión: http://opendap.puertos.es/thredds/catalog/atmosphere_regional_harmonie25/ALBO/2022/09/catalog.xml. Ficheros disponibles: 30. (Text: 00-FC). \n",
      "Url para conexión: http://opendap.puertos.es/thredds/catalog/atmosphere_regional_harmonie25/ALBO/2022/10/catalog.xml. Ficheros disponibles: 154\n",
      "Url para conexión: http://opendap.puertos.es/thredds/catalog/atmosphere_regional_harmonie25/ALBO/2022/10/catalog.xml. Ficheros disponibles: 31. (Text: 00-FC). \n",
      "Url para conexión: http://opendap.puertos.es/thredds/catalog/atmosphere_regional_harmonie25/ALBO/2022/11/catalog.xml. Ficheros disponibles: 150\n",
      "Url para conexión: http://opendap.puertos.es/thredds/catalog/atmosphere_regional_harmonie25/ALBO/2022/11/catalog.xml. Ficheros disponibles: 30. (Text: 00-FC). \n",
      "Url para conexión: http://opendap.puertos.es/thredds/catalog/atmosphere_regional_harmonie25/ALBO/2022/12/catalog.xml. Ficheros disponibles: 155\n",
      "Url para conexión: http://opendap.puertos.es/thredds/catalog/atmosphere_regional_harmonie25/ALBO/2022/12/catalog.xml. Ficheros disponibles: 31. (Text: 00-FC). \n",
      "Ficheros totales disponibles: 7286\n",
      "Ficheros totales disponibles: 1458. Filtro texto\n"
     ]
    }
   ],
   "source": [
    "pde.catalog(text_find=[\"00-FC\"])"
   ]
  },
  {
   "cell_type": "markdown",
   "id": "3c007c66",
   "metadata": {},
   "source": [
    "**Se realiza la descarga**"
   ]
  },
  {
   "cell_type": "code",
   "execution_count": 6,
   "id": "b443bbcd",
   "metadata": {},
   "outputs": [
    {
     "data": {
      "application/vnd.jupyter.widget-view+json": {
       "model_id": "e1ae7ffb504e4fa1b1d70625988757b3",
       "version_major": 2,
       "version_minor": 0
      },
      "text/plain": [
       "Downloading files:   0%|          | 0/1458 [00:00<?, ?it/s]"
      ]
     },
     "metadata": {},
     "output_type": "display_data"
    },
    {
     "name": "stdout",
     "output_type": "stream",
     "text": [
      "Descarga de datos completada\n"
     ]
    }
   ],
   "source": [
    "pde.get(path_save=r'P:/99_PROAS_FASE_2/09_F2E9_1_SWAN_DINAMICO/DATA_VIENTO/FC')"
   ]
  }
 ],
 "metadata": {
  "kernelspec": {
   "display_name": "Python 3 (ipykernel)",
   "language": "python",
   "name": "python3"
  },
  "language_info": {
   "codemirror_mode": {
    "name": "ipython",
    "version": 3
   },
   "file_extension": ".py",
   "mimetype": "text/x-python",
   "name": "python",
   "nbconvert_exporter": "python",
   "pygments_lexer": "ipython3",
   "version": "3.9.7"
  }
 },
 "nbformat": 4,
 "nbformat_minor": 5
}
